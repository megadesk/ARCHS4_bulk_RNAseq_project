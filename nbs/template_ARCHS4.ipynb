{
 "cells": [
  {
   "cell_type": "code",
   "execution_count": null,
   "metadata": {},
   "outputs": [],
   "source": []
  },
  {
   "cell_type": "code",
   "execution_count": 38,
   "metadata": {},
   "outputs": [
    {
     "data": {
      "text/plain": [
       "\"\\n\\nThe purpose/objective of this notebook is :\\n\\n\\nThe following notebooks should be run before this notebook or are used to generate input files for the notebook:\\n\\n\\n\\n\\n# save all the global variable in a dataclass G\\n@dataclass\\nclass G():\\n    Class to hold global variables\\n    write_dir='/home/ubuntu/write/'\\n    repo_parent_dir='../../'\\n    WRITE_CACHE=False\\n    #input files\\n\\n    #output files\\n\\n    #variables to change\\n    save_output=True\\n    save_output_figures=False\\n\\n\\n\""
      ]
     },
     "execution_count": 38,
     "metadata": {},
     "output_type": "execute_result"
    }
   ],
   "source": [
    "'''\n",
    "\n",
    "The purpose/objective of this notebook is :\n",
    "\n",
    "\n",
    "The following notebooks should be run before this notebook or are used to generate input files for the notebook:\n",
    "\n",
    "\n",
    "\n",
    "\n",
    "# save all the global variable in a dataclass G\n",
    "@dataclass\n",
    "class G():\n",
    "    Class to hold global variables\n",
    "    write_dir='/home/ubuntu/write/'\n",
    "    repo_parent_dir='../../'\n",
    "    WRITE_CACHE=False\n",
    "    #input files\n",
    "\n",
    "    #output files\n",
    "\n",
    "    #variables to change\n",
    "    save_output=True\n",
    "    save_output_figures=False\n",
    "\n",
    "\n",
    "'''"
   ]
  },
  {
   "cell_type": "code",
   "execution_count": 39,
   "metadata": {},
   "outputs": [
    {
     "name": "stdout",
     "output_type": "stream",
     "text": [
      "/home/ubuntu\n",
      "archs4_gene_human_v2.1.2.h5\n"
     ]
    }
   ],
   "source": [
    "%%bash\n",
    "cd\n",
    "pwd\n",
    "cd /home/ubuntu/data/ARCHS4/\n",
    "ls"
   ]
  },
  {
   "attachments": {},
   "cell_type": "markdown",
   "metadata": {},
   "source": [
    "## Global variables"
   ]
  },
  {
   "cell_type": "code",
   "execution_count": 40,
   "metadata": {},
   "outputs": [],
   "source": [
    "# save all the global variable in a dataclass G\n",
    "from dataclasses import dataclass\n",
    "@dataclass\n",
    "class G():\n",
    "    '''Class to hold global variables'''\n",
    "    write_dir='/home/ubuntu/write/'\n",
    "    repo_parent_dir='../../'\n",
    "    WRITE_CACHE=False\n",
    "    #input files\n",
    "    ARCHS4_H5_file='/home/ubuntu/data/ARCHS4/archs4_gene_human_v2.1.2.h5'\n",
    "\n",
    "    #output files\n",
    "\n",
    "    #variables to change\n",
    "    save_output=True\n",
    "    save_output_figures=False\n",
    "\n",
    "    "
   ]
  },
  {
   "attachments": {},
   "cell_type": "markdown",
   "metadata": {},
   "source": [
    "# libraries standard paths and settings"
   ]
  },
  {
   "cell_type": "code",
   "execution_count": 41,
   "metadata": {},
   "outputs": [
    {
     "name": "stdout",
     "output_type": "stream",
     "text": [
      "scanpy==1.9.3 anndata==0.8.0 umap==0.5.3 numpy==1.23.5 scipy==1.10.1 pandas==1.5.3 scikit-learn==1.2.2 statsmodels==0.14.0 python-igraph==0.10.4 louvain==0.8.0 pynndescent==0.5.10\n"
     ]
    }
   ],
   "source": [
    "#write_dir='/home/ubuntu/write/'\n",
    "#repo_parent_dir='../../'\n",
    "\n",
    "import sys\n",
    "if G.repo_parent_dir not in sys.path:\n",
    "    sys.path.append(G.repo_parent_dir)\n",
    "\n",
    "import adata_and_scanpy_tools as asctl\n",
    "\n",
    "import pandas as pd\n",
    "import scanpy as sc\n",
    "import numpy as np\n",
    "import scanpy as sc\n",
    "sc.settings.verbosity = 1             # verbosity: errors (0), warnings (1), info (2), hints (3)\n",
    "sc.logging.print_header()\n",
    "sc.settings.set_figure_params(dpi=80, facecolor='white')\n",
    "\n",
    "#WRITE_CACHE=False # use false if  in github repo or cache files not in git ignore"
   ]
  },
  {
   "cell_type": "code",
   "execution_count": 42,
   "metadata": {},
   "outputs": [],
   "source": [
    "pd.set_option('display.max_rows', 500)\n",
    "pd.set_option('display.max_columns', 500)\n",
    "pd.set_option('display.width', 1000)\n",
    "pd.options.display.max_seq_items = 2000\n",
    "\n",
    "import matplotlib.pyplot as plt\n",
    "import seaborn as sns\n",
    "%matplotlib inline "
   ]
  },
  {
   "cell_type": "code",
   "execution_count": 43,
   "metadata": {},
   "outputs": [],
   "source": [
    "### import extra packages\n",
    "import h5py\n",
    "import scipy as sp\n",
    "import h5sparse"
   ]
  },
  {
   "cell_type": "code",
   "execution_count": null,
   "metadata": {},
   "outputs": [],
   "source": []
  },
  {
   "cell_type": "code",
   "execution_count": null,
   "metadata": {},
   "outputs": [],
   "source": []
  },
  {
   "cell_type": "code",
   "execution_count": null,
   "metadata": {},
   "outputs": [],
   "source": []
  },
  {
   "attachments": {},
   "cell_type": "markdown",
   "metadata": {},
   "source": [
    "# Analysis starts here:"
   ]
  },
  {
   "cell_type": "markdown",
   "metadata": {},
   "source": [
    "### filter  and other functions"
   ]
  },
  {
   "cell_type": "code",
   "execution_count": 44,
   "metadata": {},
   "outputs": [],
   "source": [
    "def load_ARCHS4_H5_to_df( ARCHS4_H5_file):\n",
    "    '''load a ARCHS4_H5 file to a pandas dataframe'''\n",
    "    ARCHS4_H5=h5py.File(G.ARCHS4_H5_file, 'r'   )\n",
    "    meta_samples = ARCHS4_H5['meta/samples']\n",
    "    df = pd.DataFrame()\n",
    "    for name, item in meta_samples.items():\n",
    "        if isinstance(item, h5py.Dataset):\n",
    "            values = item[:]\n",
    "            values = [val.decode('utf-8') if isinstance(val, bytes) else val for val in values]\n",
    "            df[name]= values\n",
    "            df[name]= df[name].astype(item.dtype) \n",
    "    # now re order the columns\n",
    "    new_column_order=['geo_accession', 'title', 'status', 'submission_date', 'last_update_date', 'type', 'channel_count', 'source_name_ch1', 'organism_ch1', 'taxid_ch1', 'characteristics_ch1', 'molecule_ch1', 'extract_protocol_ch1', 'library_selection', 'library_source', 'library_strategy', 'platform_id', 'instrument_model', 'relation', 'series_id', 'sra_id', 'contact_name', 'contact_address', 'contact_city', 'contact_zip', 'contact_country', 'contact_institute', 'data_processing', 'singlecellprobability']\n",
    "    df = df[new_column_order].copy()\n",
    "    return df\n",
    "\n",
    "\n",
    "def basic_filter_for_bulk_RNAseq(df, min_singlecellprobability=.5):\n",
    "    df=df.loc[(df['library_selection'].isin(['cDNA']))\n",
    "              &(df['molecule_ch1'].isin(['total RNA','polyA RNA']))\n",
    "              &(df['singlecellprobability']<min_singlecellprobability)\n",
    "              ,:].copy()\n",
    "    print('filtering for library_selection = cDNA')\n",
    "    print('filtering for molecule_ch1 =total RNA or polyA RNA')\n",
    "    print(f'filtering for singlecellprobability <{min_singlecellprobability}')\n",
    "    return df\n",
    "\n",
    "def filter_df(df, search_strings, include=True,ignore_columns=None):\n",
    "    # now filter rows of df to only include rows where an arbitrary list of string is present\n",
    "    bolean_table= df.applymap(lambda x: x if pd.isnull(x) else any(search_string in x for search_string in search_strings) if isinstance(x, str) else False)\n",
    "    # now remove the columns that are in ignore_columns from the bolean_table 'result' df\n",
    "    if ignore_columns:\n",
    "       bolean_table=bolean_table.drop(columns=ignore_columns)\n",
    "    if include:\n",
    "        df=df.loc[bolean_table.any(axis=1),:].copy()\n",
    "        print(f'filtering to include {search_strings}')\n",
    "    else:\n",
    "        df=df.loc[~bolean_table.any(axis=1),:].copy()\n",
    "        print(f'filtering to exclude {search_strings}')\n",
    "    return df"
   ]
  },
  {
   "attachments": {},
   "cell_type": "markdown",
   "metadata": {},
   "source": [
    "## load then process and save processed data"
   ]
  },
  {
   "attachments": {},
   "cell_type": "markdown",
   "metadata": {},
   "source": [
    "### load data"
   ]
  },
  {
   "cell_type": "code",
   "execution_count": 45,
   "metadata": {},
   "outputs": [
    {
     "name": "stdout",
     "output_type": "stream",
     "text": [
      "/home/ubuntu/data/ARCHS4/archs4_gene_human_v2.1.2.h5\n",
      "Groups in HDF5 file:\n",
      "data\n",
      "meta\n",
      "CPU times: user 993 µs, sys: 214 µs, total: 1.21 ms\n",
      "Wall time: 1.7 ms\n"
     ]
    }
   ],
   "source": [
    "%%time\n",
    "#from G.ARCHS4_H5_file\n",
    "print(G.ARCHS4_H5_file) \n",
    "ARCHS4_H5=h5py.File(G.ARCHS4_H5_file, 'r'   )\n",
    "print(\"Groups in HDF5 file:\")\n",
    "for group in list(ARCHS4_H5.keys()):\n",
    "    print(group)"
   ]
  },
  {
   "cell_type": "markdown",
   "metadata": {},
   "source": [
    "### load the metadata"
   ]
  },
  {
   "cell_type": "code",
   "execution_count": 46,
   "metadata": {},
   "outputs": [
    {
     "name": "stdout",
     "output_type": "stream",
     "text": [
      "(620825, 29)\n"
     ]
    },
    {
     "data": {
      "text/html": [
       "<div>\n",
       "<style scoped>\n",
       "    .dataframe tbody tr th:only-of-type {\n",
       "        vertical-align: middle;\n",
       "    }\n",
       "\n",
       "    .dataframe tbody tr th {\n",
       "        vertical-align: top;\n",
       "    }\n",
       "\n",
       "    .dataframe thead th {\n",
       "        text-align: right;\n",
       "    }\n",
       "</style>\n",
       "<table border=\"1\" class=\"dataframe\">\n",
       "  <thead>\n",
       "    <tr style=\"text-align: right;\">\n",
       "      <th></th>\n",
       "      <th>geo_accession</th>\n",
       "      <th>title</th>\n",
       "      <th>status</th>\n",
       "      <th>submission_date</th>\n",
       "      <th>last_update_date</th>\n",
       "      <th>type</th>\n",
       "      <th>channel_count</th>\n",
       "      <th>source_name_ch1</th>\n",
       "      <th>organism_ch1</th>\n",
       "      <th>taxid_ch1</th>\n",
       "      <th>characteristics_ch1</th>\n",
       "      <th>molecule_ch1</th>\n",
       "      <th>extract_protocol_ch1</th>\n",
       "      <th>library_selection</th>\n",
       "      <th>library_source</th>\n",
       "      <th>library_strategy</th>\n",
       "      <th>platform_id</th>\n",
       "      <th>instrument_model</th>\n",
       "      <th>relation</th>\n",
       "      <th>series_id</th>\n",
       "      <th>sra_id</th>\n",
       "      <th>contact_name</th>\n",
       "      <th>contact_address</th>\n",
       "      <th>contact_city</th>\n",
       "      <th>contact_zip</th>\n",
       "      <th>contact_country</th>\n",
       "      <th>contact_institute</th>\n",
       "      <th>data_processing</th>\n",
       "      <th>singlecellprobability</th>\n",
       "    </tr>\n",
       "  </thead>\n",
       "  <tbody>\n",
       "    <tr>\n",
       "      <th>0</th>\n",
       "      <td>GSM1000981</td>\n",
       "      <td>OCI-LY1_48hrs_mRNAseq_3x_siNT_R1</td>\n",
       "      <td>Public on Aug 05 2013</td>\n",
       "      <td>Sep 10 2012</td>\n",
       "      <td>May 15 2019</td>\n",
       "      <td>SRA</td>\n",
       "      <td>1</td>\n",
       "      <td>Human DLBCL cel line</td>\n",
       "      <td>Homo sapiens</td>\n",
       "      <td>9606</td>\n",
       "      <td>treatment: siNT,cell line: OCI-LY1</td>\n",
       "      <td>total RNA</td>\n",
       "      <td>ChIP-seq libraries were prepared using the Ill...</td>\n",
       "      <td>cDNA</td>\n",
       "      <td>transcriptomic</td>\n",
       "      <td>RNA-Seq</td>\n",
       "      <td>GPL15433</td>\n",
       "      <td>Illumina HiSeq 1000</td>\n",
       "      <td>SRA: https://www.ncbi.nlm.nih.gov/sra?term=SRX...</td>\n",
       "      <td>GSE29282</td>\n",
       "      <td>SRR566986,SRR566987,SRR566988,SRR566989,SRR566...</td>\n",
       "      <td>Katerina,,Hatzi</td>\n",
       "      <td>413 E 69th Street, BB-1462</td>\n",
       "      <td>New York</td>\n",
       "      <td></td>\n",
       "      <td>USA</td>\n",
       "      <td>WCMC</td>\n",
       "      <td>ChIP-seq: Raw images generated went through pr...</td>\n",
       "      <td>0.043917</td>\n",
       "    </tr>\n",
       "    <tr>\n",
       "      <th>1</th>\n",
       "      <td>GSM1000982</td>\n",
       "      <td>OCI-LY1_48hrs_mRNAseq_3x_siNT_R2</td>\n",
       "      <td>Public on Aug 05 2013</td>\n",
       "      <td>Sep 10 2012</td>\n",
       "      <td>May 15 2019</td>\n",
       "      <td>SRA</td>\n",
       "      <td>1</td>\n",
       "      <td>Human DLBCL cel line</td>\n",
       "      <td>Homo sapiens</td>\n",
       "      <td>9606</td>\n",
       "      <td>treatment: siNT,cell line: OCI-LY1</td>\n",
       "      <td>total RNA</td>\n",
       "      <td>ChIP-seq libraries were prepared using the Ill...</td>\n",
       "      <td>cDNA</td>\n",
       "      <td>transcriptomic</td>\n",
       "      <td>RNA-Seq</td>\n",
       "      <td>GPL15433</td>\n",
       "      <td>Illumina HiSeq 1000</td>\n",
       "      <td>SRA: https://www.ncbi.nlm.nih.gov/sra?term=SRX...</td>\n",
       "      <td>GSE29282</td>\n",
       "      <td>SRR567014,SRR567015,SRR567016,SRR567017,SRR567...</td>\n",
       "      <td>Katerina,,Hatzi</td>\n",
       "      <td>413 E 69th Street, BB-1462</td>\n",
       "      <td>New York</td>\n",
       "      <td></td>\n",
       "      <td>USA</td>\n",
       "      <td>WCMC</td>\n",
       "      <td>ChIP-seq: Raw images generated went through pr...</td>\n",
       "      <td>0.032111</td>\n",
       "    </tr>\n",
       "  </tbody>\n",
       "</table>\n",
       "</div>"
      ],
      "text/plain": [
       "  geo_accession                             title                 status submission_date last_update_date type channel_count       source_name_ch1  organism_ch1 taxid_ch1                 characteristics_ch1 molecule_ch1                               extract_protocol_ch1 library_selection  library_source library_strategy platform_id     instrument_model                                           relation series_id                                             sra_id     contact_name             contact_address contact_city contact_zip contact_country contact_institute                                    data_processing  singlecellprobability\n",
       "0    GSM1000981  OCI-LY1_48hrs_mRNAseq_3x_siNT_R1  Public on Aug 05 2013     Sep 10 2012      May 15 2019  SRA             1  Human DLBCL cel line  Homo sapiens      9606  treatment: siNT,cell line: OCI-LY1    total RNA  ChIP-seq libraries were prepared using the Ill...              cDNA  transcriptomic          RNA-Seq    GPL15433  Illumina HiSeq 1000  SRA: https://www.ncbi.nlm.nih.gov/sra?term=SRX...  GSE29282  SRR566986,SRR566987,SRR566988,SRR566989,SRR566...  Katerina,,Hatzi  413 E 69th Street, BB-1462     New York                         USA              WCMC  ChIP-seq: Raw images generated went through pr...               0.043917\n",
       "1    GSM1000982  OCI-LY1_48hrs_mRNAseq_3x_siNT_R2  Public on Aug 05 2013     Sep 10 2012      May 15 2019  SRA             1  Human DLBCL cel line  Homo sapiens      9606  treatment: siNT,cell line: OCI-LY1    total RNA  ChIP-seq libraries were prepared using the Ill...              cDNA  transcriptomic          RNA-Seq    GPL15433  Illumina HiSeq 1000  SRA: https://www.ncbi.nlm.nih.gov/sra?term=SRX...  GSE29282  SRR567014,SRR567015,SRR567016,SRR567017,SRR567...  Katerina,,Hatzi  413 E 69th Street, BB-1462     New York                         USA              WCMC  ChIP-seq: Raw images generated went through pr...               0.032111"
      ]
     },
     "execution_count": 46,
     "metadata": {},
     "output_type": "execute_result"
    }
   ],
   "source": [
    "\n",
    "df_meta_src=load_ARCHS4_H5_to_df( G.ARCHS4_H5_file )\n",
    "print(df_meta_src.shape)\n",
    "#df_meta_src.to_csv('meta_samples.csv', index=False)\n",
    "#df_meta_src=pd.read_csv('meta_samples.csv')\n",
    "df_meta_src.head(2)"
   ]
  },
  {
   "cell_type": "code",
   "execution_count": 47,
   "metadata": {},
   "outputs": [],
   "source": [
    "df=df_meta_src.copy()\n",
    "#df.dtypes"
   ]
  },
  {
   "cell_type": "markdown",
   "metadata": {},
   "source": [
    "#### check out the compositin of columns"
   ]
  },
  {
   "cell_type": "code",
   "execution_count": 48,
   "metadata": {},
   "outputs": [
    {
     "name": "stdout",
     "output_type": "stream",
     "text": [
      "Homo sapiens    620825\n",
      "Name: organism_ch1, dtype: int64\n",
      "RNA-Seq    620825\n",
      "Name: library_strategy, dtype: int64\n",
      "cDNA                  617866\n",
      "CAGE                    1845\n",
      "size fractionation       874\n",
      "RACE                     204\n",
      "RANDOM                    20\n",
      "other                     16\n",
      "Name: library_selection, dtype: int64\n",
      "total RNA          453116\n",
      "polyA RNA          166715\n",
      "genomic DNA           417\n",
      "nuclear RNA           328\n",
      "cytoplasmic RNA       200\n",
      "protein                33\n",
      "other                  16\n",
      "Name: molecule_ch1, dtype: int64\n"
     ]
    },
    {
     "data": {
      "text/plain": [
       "<AxesSubplot: >"
      ]
     },
     "execution_count": 48,
     "metadata": {},
     "output_type": "execute_result"
    },
    {
     "data": {
      "image/png": "[encoded data removed]",
      "text/plain": [
       "<Figure size 320x320 with 1 Axes>"
      ]
     },
     "metadata": {
      "image/png": {
       "height": 282,
       "width": 338
      }
     },
     "output_type": "display_data"
    }
   ],
   "source": [
    "print(df['organism_ch1'].value_counts())\n",
    "print(df['library_strategy'].value_counts())\n",
    "print(df['library_selection'].value_counts())\n",
    "print(df['molecule_ch1'].value_counts()) # RNA\n",
    "#print(df['type'].value_counts())\n",
    "#print(df['status'].value_counts())\n",
    "#print(df['platform_id'].value_counts())\n",
    "#print(df['instrument_model'].value_counts())\n",
    "#print(df['relation'].value_counts())\n",
    "#print(df['series_id'].value_counts())\n",
    "#print(df['sra_id'].value_counts())\n",
    "#print(df['data_processing'].value_counts())\n",
    "df['singlecellprobability'].hist()"
   ]
  },
  {
   "attachments": {},
   "cell_type": "markdown",
   "metadata": {},
   "source": [
    "### filter  the data"
   ]
  },
  {
   "cell_type": "markdown",
   "metadata": {},
   "source": [
    "#### now do a basic filter for RNA gene expression and some cut off for single cell probability"
   ]
  },
  {
   "cell_type": "code",
   "execution_count": 49,
   "metadata": {},
   "outputs": [
    {
     "name": "stdout",
     "output_type": "stream",
     "text": [
      "(620825, 29)\n",
      "filtering for library_selection = cDNA\n",
      "filtering for molecule_ch1 =total RNA or polyA RNA\n",
      "filtering for singlecellprobability <0.2\n",
      "(263902, 29)\n"
     ]
    },
    {
     "data": {
      "text/plain": [
       "<AxesSubplot: >"
      ]
     },
     "execution_count": 49,
     "metadata": {},
     "output_type": "execute_result"
    },
    {
     "data": {
      "image/png": "[encoded data removed]",
      "text/plain": [
       "<Figure size 320x320 with 1 Axes>"
      ]
     },
     "metadata": {
      "image/png": {
       "height": 282,
       "width": 328
      }
     },
     "output_type": "display_data"
    }
   ],
   "source": [
    "df=df_meta_src.copy()\n",
    "print(df.shape)\n",
    "df=basic_filter_for_bulk_RNAseq(df, min_singlecellprobability=.2)\n",
    "print(df.shape)\n",
    "#df.to_csv('meta_samples_small.csv', index=False)\n",
    "df['singlecellprobability'].hist()"
   ]
  },
  {
   "cell_type": "code",
   "execution_count": 50,
   "metadata": {},
   "outputs": [
    {
     "data": {
      "text/html": [
       "<div>\n",
       "<style scoped>\n",
       "    .dataframe tbody tr th:only-of-type {\n",
       "        vertical-align: middle;\n",
       "    }\n",
       "\n",
       "    .dataframe tbody tr th {\n",
       "        vertical-align: top;\n",
       "    }\n",
       "\n",
       "    .dataframe thead th {\n",
       "        text-align: right;\n",
       "    }\n",
       "</style>\n",
       "<table border=\"1\" class=\"dataframe\">\n",
       "  <thead>\n",
       "    <tr style=\"text-align: right;\">\n",
       "      <th></th>\n",
       "      <th>geo_accession</th>\n",
       "      <th>title</th>\n",
       "      <th>status</th>\n",
       "      <th>submission_date</th>\n",
       "      <th>last_update_date</th>\n",
       "      <th>type</th>\n",
       "      <th>channel_count</th>\n",
       "      <th>source_name_ch1</th>\n",
       "      <th>organism_ch1</th>\n",
       "      <th>taxid_ch1</th>\n",
       "      <th>characteristics_ch1</th>\n",
       "      <th>molecule_ch1</th>\n",
       "      <th>extract_protocol_ch1</th>\n",
       "      <th>library_selection</th>\n",
       "      <th>library_source</th>\n",
       "      <th>library_strategy</th>\n",
       "      <th>platform_id</th>\n",
       "      <th>instrument_model</th>\n",
       "      <th>relation</th>\n",
       "      <th>series_id</th>\n",
       "      <th>sra_id</th>\n",
       "      <th>contact_name</th>\n",
       "      <th>contact_address</th>\n",
       "      <th>contact_city</th>\n",
       "      <th>contact_zip</th>\n",
       "      <th>contact_country</th>\n",
       "      <th>contact_institute</th>\n",
       "      <th>data_processing</th>\n",
       "      <th>singlecellprobability</th>\n",
       "    </tr>\n",
       "  </thead>\n",
       "  <tbody>\n",
       "    <tr>\n",
       "      <th>620801</th>\n",
       "      <td>GSM999568</td>\n",
       "      <td>Control Und. 10</td>\n",
       "      <td>Public on Oct 04 2012</td>\n",
       "      <td>Sep 08 2012</td>\n",
       "      <td>May 15 2019</td>\n",
       "      <td>SRA</td>\n",
       "      <td>1</td>\n",
       "      <td>Brain cortex</td>\n",
       "      <td>Homo sapiens</td>\n",
       "      <td>9606</td>\n",
       "      <td>tissue: Human brain cortex (BA9),disease state...</td>\n",
       "      <td>polyA RNA</td>\n",
       "      <td>RNA was extracted from frozen brain tissue usi...</td>\n",
       "      <td>cDNA</td>\n",
       "      <td>transcriptomic</td>\n",
       "      <td>RNA-Seq</td>\n",
       "      <td>GPL11154</td>\n",
       "      <td>Illumina HiSeq 2000</td>\n",
       "      <td>SRA: https://www.ncbi.nlm.nih.gov/sra?term=SRX...</td>\n",
       "      <td>GSE40710</td>\n",
       "      <td>SRR563534</td>\n",
       "      <td>Herve,,RHINN</td>\n",
       "      <td>650 W. 168th. St.</td>\n",
       "      <td>New York</td>\n",
       "      <td></td>\n",
       "      <td>USA</td>\n",
       "      <td>Columbia University</td>\n",
       "      <td>Illumina reads were converted to FASTQ Sanger ...</td>\n",
       "      <td>0.161417</td>\n",
       "    </tr>\n",
       "    <tr>\n",
       "      <th>620808</th>\n",
       "      <td>GSM999575</td>\n",
       "      <td>Parkinson's Disease PD 1</td>\n",
       "      <td>Public on Oct 04 2012</td>\n",
       "      <td>Sep 08 2012</td>\n",
       "      <td>May 15 2019</td>\n",
       "      <td>SRA</td>\n",
       "      <td>1</td>\n",
       "      <td>Brain cortex</td>\n",
       "      <td>Homo sapiens</td>\n",
       "      <td>9606</td>\n",
       "      <td>tissue: Human brain cortex (BA9),disease state...</td>\n",
       "      <td>polyA RNA</td>\n",
       "      <td>RNA was extracted from frozen brain tissue usi...</td>\n",
       "      <td>cDNA</td>\n",
       "      <td>transcriptomic</td>\n",
       "      <td>RNA-Seq</td>\n",
       "      <td>GPL11154</td>\n",
       "      <td>Illumina HiSeq 2000</td>\n",
       "      <td>SRA: https://www.ncbi.nlm.nih.gov/sra?term=SRX...</td>\n",
       "      <td>GSE40710</td>\n",
       "      <td>SRR563541</td>\n",
       "      <td>Herve,,RHINN</td>\n",
       "      <td>650 W. 168th. St.</td>\n",
       "      <td>New York</td>\n",
       "      <td></td>\n",
       "      <td>USA</td>\n",
       "      <td>Columbia University</td>\n",
       "      <td>Illumina reads were converted to FASTQ Sanger ...</td>\n",
       "      <td>0.190284</td>\n",
       "    </tr>\n",
       "    <tr>\n",
       "      <th>620821</th>\n",
       "      <td>GSM999588</td>\n",
       "      <td>Parkinson's Disease PD 14</td>\n",
       "      <td>Public on Oct 04 2012</td>\n",
       "      <td>Sep 08 2012</td>\n",
       "      <td>May 15 2019</td>\n",
       "      <td>SRA</td>\n",
       "      <td>1</td>\n",
       "      <td>Brain cortex</td>\n",
       "      <td>Homo sapiens</td>\n",
       "      <td>9606</td>\n",
       "      <td>tissue: Human brain cortex (BA9),disease state...</td>\n",
       "      <td>polyA RNA</td>\n",
       "      <td>RNA was extracted from frozen brain tissue usi...</td>\n",
       "      <td>cDNA</td>\n",
       "      <td>transcriptomic</td>\n",
       "      <td>RNA-Seq</td>\n",
       "      <td>GPL11154</td>\n",
       "      <td>Illumina HiSeq 2000</td>\n",
       "      <td>SRA: https://www.ncbi.nlm.nih.gov/sra?term=SRX...</td>\n",
       "      <td>GSE40710</td>\n",
       "      <td>SRR563554</td>\n",
       "      <td>Herve,,RHINN</td>\n",
       "      <td>650 W. 168th. St.</td>\n",
       "      <td>New York</td>\n",
       "      <td></td>\n",
       "      <td>USA</td>\n",
       "      <td>Columbia University</td>\n",
       "      <td>Illumina reads were converted to FASTQ Sanger ...</td>\n",
       "      <td>0.161673</td>\n",
       "    </tr>\n",
       "  </tbody>\n",
       "</table>\n",
       "</div>"
      ],
      "text/plain": [
       "       geo_accession                      title                 status submission_date last_update_date type channel_count source_name_ch1  organism_ch1 taxid_ch1                                characteristics_ch1 molecule_ch1                               extract_protocol_ch1 library_selection  library_source library_strategy platform_id     instrument_model                                           relation series_id     sra_id  contact_name    contact_address contact_city contact_zip contact_country    contact_institute                                    data_processing  singlecellprobability\n",
       "620801     GSM999568            Control Und. 10  Public on Oct 04 2012     Sep 08 2012      May 15 2019  SRA             1    Brain cortex  Homo sapiens      9606  tissue: Human brain cortex (BA9),disease state...    polyA RNA  RNA was extracted from frozen brain tissue usi...              cDNA  transcriptomic          RNA-Seq    GPL11154  Illumina HiSeq 2000  SRA: https://www.ncbi.nlm.nih.gov/sra?term=SRX...  GSE40710  SRR563534  Herve,,RHINN  650 W. 168th. St.     New York                         USA  Columbia University  Illumina reads were converted to FASTQ Sanger ...               0.161417\n",
       "620808     GSM999575   Parkinson's Disease PD 1  Public on Oct 04 2012     Sep 08 2012      May 15 2019  SRA             1    Brain cortex  Homo sapiens      9606  tissue: Human brain cortex (BA9),disease state...    polyA RNA  RNA was extracted from frozen brain tissue usi...              cDNA  transcriptomic          RNA-Seq    GPL11154  Illumina HiSeq 2000  SRA: https://www.ncbi.nlm.nih.gov/sra?term=SRX...  GSE40710  SRR563541  Herve,,RHINN  650 W. 168th. St.     New York                         USA  Columbia University  Illumina reads were converted to FASTQ Sanger ...               0.190284\n",
       "620821     GSM999588  Parkinson's Disease PD 14  Public on Oct 04 2012     Sep 08 2012      May 15 2019  SRA             1    Brain cortex  Homo sapiens      9606  tissue: Human brain cortex (BA9),disease state...    polyA RNA  RNA was extracted from frozen brain tissue usi...              cDNA  transcriptomic          RNA-Seq    GPL11154  Illumina HiSeq 2000  SRA: https://www.ncbi.nlm.nih.gov/sra?term=SRX...  GSE40710  SRR563554  Herve,,RHINN  650 W. 168th. St.     New York                         USA  Columbia University  Illumina reads were converted to FASTQ Sanger ...               0.161673"
      ]
     },
     "execution_count": 50,
     "metadata": {},
     "output_type": "execute_result"
    }
   ],
   "source": [
    "df.tail(3)   \n"
   ]
  },
  {
   "cell_type": "markdown",
   "metadata": {},
   "source": [
    "#### now all do a new filter"
   ]
  },
  {
   "cell_type": "code",
   "execution_count": 68,
   "metadata": {},
   "outputs": [
    {
     "name": "stdout",
     "output_type": "stream",
     "text": [
      "(620825, 29)\n",
      "filtering for library_selection = cDNA\n",
      "filtering for molecule_ch1 =total RNA or polyA RNA\n",
      "filtering for singlecellprobability <0.2\n",
      "(263902, 29)\n",
      "filtering to include ['microglia', 'macrophage']\n",
      "(5877, 29)\n",
      "filtering to exclude ['iPSC', 'monocyte']\n",
      "(3502, 29)\n"
     ]
    },
    {
     "data": {
      "text/html": [
       "<div>\n",
       "<style scoped>\n",
       "    .dataframe tbody tr th:only-of-type {\n",
       "        vertical-align: middle;\n",
       "    }\n",
       "\n",
       "    .dataframe tbody tr th {\n",
       "        vertical-align: top;\n",
       "    }\n",
       "\n",
       "    .dataframe thead th {\n",
       "        text-align: right;\n",
       "    }\n",
       "</style>\n",
       "<table border=\"1\" class=\"dataframe\">\n",
       "  <thead>\n",
       "    <tr style=\"text-align: right;\">\n",
       "      <th></th>\n",
       "      <th>geo_accession</th>\n",
       "      <th>title</th>\n",
       "      <th>status</th>\n",
       "      <th>submission_date</th>\n",
       "      <th>last_update_date</th>\n",
       "      <th>type</th>\n",
       "      <th>channel_count</th>\n",
       "      <th>source_name_ch1</th>\n",
       "      <th>organism_ch1</th>\n",
       "      <th>taxid_ch1</th>\n",
       "      <th>characteristics_ch1</th>\n",
       "      <th>molecule_ch1</th>\n",
       "      <th>extract_protocol_ch1</th>\n",
       "      <th>library_selection</th>\n",
       "      <th>library_source</th>\n",
       "      <th>library_strategy</th>\n",
       "      <th>platform_id</th>\n",
       "      <th>instrument_model</th>\n",
       "      <th>relation</th>\n",
       "      <th>series_id</th>\n",
       "      <th>sra_id</th>\n",
       "      <th>contact_name</th>\n",
       "      <th>contact_address</th>\n",
       "      <th>contact_city</th>\n",
       "      <th>contact_zip</th>\n",
       "      <th>contact_country</th>\n",
       "      <th>contact_institute</th>\n",
       "      <th>data_processing</th>\n",
       "      <th>singlecellprobability</th>\n",
       "    </tr>\n",
       "  </thead>\n",
       "  <tbody>\n",
       "    <tr>\n",
       "      <th>618354</th>\n",
       "      <td>GSM6544227</td>\n",
       "      <td>02 Huh6+Mac</td>\n",
       "      <td>Public on Sep 09 2022</td>\n",
       "      <td>Sep 06 2022</td>\n",
       "      <td>Sep 09 2022</td>\n",
       "      <td>SRA</td>\n",
       "      <td>1</td>\n",
       "      <td>Liver</td>\n",
       "      <td>Homo sapiens</td>\n",
       "      <td>9606</td>\n",
       "      <td>tissue: Liver,cell line: Huh6,cell type: cance...</td>\n",
       "      <td>total RNA</td>\n",
       "      <td>RNA was harvested using Rneasy mini plus kit (...</td>\n",
       "      <td>cDNA</td>\n",
       "      <td>transcriptomic</td>\n",
       "      <td>RNA-Seq</td>\n",
       "      <td>GPL18573</td>\n",
       "      <td>Illumina NextSeq 500</td>\n",
       "      <td>BioSample: https://www.ncbi.nlm.nih.gov/biosam...</td>\n",
       "      <td>GSE212734</td>\n",
       "      <td>SRR21430637</td>\n",
       "      <td>Yoshihiro,,Komohara</td>\n",
       "      <td>Honjo 1â1â1, Chuouku</td>\n",
       "      <td>Kumamoto</td>\n",
       "      <td></td>\n",
       "      <td>Japan</td>\n",
       "      <td>Graduate School of Medical Sciences, Kumamoto ...</td>\n",
       "      <td>illumina Local Run Manager v2.4.0,Sequence rea...</td>\n",
       "      <td>0.108401</td>\n",
       "    </tr>\n",
       "    <tr>\n",
       "      <th>618356</th>\n",
       "      <td>GSM6544229</td>\n",
       "      <td>04 HepG2+Mac</td>\n",
       "      <td>Public on Sep 09 2022</td>\n",
       "      <td>Sep 06 2022</td>\n",
       "      <td>Sep 09 2022</td>\n",
       "      <td>SRA</td>\n",
       "      <td>1</td>\n",
       "      <td>Liver</td>\n",
       "      <td>Homo sapiens</td>\n",
       "      <td>9606</td>\n",
       "      <td>tissue: Liver,cell line: HepG2,cell type: canc...</td>\n",
       "      <td>total RNA</td>\n",
       "      <td>RNA was harvested using Rneasy mini plus kit (...</td>\n",
       "      <td>cDNA</td>\n",
       "      <td>transcriptomic</td>\n",
       "      <td>RNA-Seq</td>\n",
       "      <td>GPL18573</td>\n",
       "      <td>Illumina NextSeq 500</td>\n",
       "      <td>BioSample: https://www.ncbi.nlm.nih.gov/biosam...</td>\n",
       "      <td>GSE212734</td>\n",
       "      <td>SRR21430635</td>\n",
       "      <td>Yoshihiro,,Komohara</td>\n",
       "      <td>Honjo 1â1â1, Chuouku</td>\n",
       "      <td>Kumamoto</td>\n",
       "      <td></td>\n",
       "      <td>Japan</td>\n",
       "      <td>Graduate School of Medical Sciences, Kumamoto ...</td>\n",
       "      <td>illumina Local Run Manager v2.4.0,Sequence rea...</td>\n",
       "      <td>0.074854</td>\n",
       "    </tr>\n",
       "    <tr>\n",
       "      <th>618358</th>\n",
       "      <td>GSM6544231</td>\n",
       "      <td>06 H23_Mac CM</td>\n",
       "      <td>Public on Sep 09 2022</td>\n",
       "      <td>Sep 06 2022</td>\n",
       "      <td>Sep 09 2022</td>\n",
       "      <td>SRA</td>\n",
       "      <td>1</td>\n",
       "      <td>Lung</td>\n",
       "      <td>Homo sapiens</td>\n",
       "      <td>9606</td>\n",
       "      <td>tissue: Lung,cell line: NCI-H23,cell type: can...</td>\n",
       "      <td>total RNA</td>\n",
       "      <td>RNA was harvested using Rneasy mini plus kit (...</td>\n",
       "      <td>cDNA</td>\n",
       "      <td>transcriptomic</td>\n",
       "      <td>RNA-Seq</td>\n",
       "      <td>GPL18573</td>\n",
       "      <td>Illumina NextSeq 500</td>\n",
       "      <td>BioSample: https://www.ncbi.nlm.nih.gov/biosam...</td>\n",
       "      <td>GSE212734</td>\n",
       "      <td>SRR21430633</td>\n",
       "      <td>Yoshihiro,,Komohara</td>\n",
       "      <td>Honjo 1â1â1, Chuouku</td>\n",
       "      <td>Kumamoto</td>\n",
       "      <td></td>\n",
       "      <td>Japan</td>\n",
       "      <td>Graduate School of Medical Sciences, Kumamoto ...</td>\n",
       "      <td>illumina Local Run Manager v2.4.0,Sequence rea...</td>\n",
       "      <td>0.095207</td>\n",
       "    </tr>\n",
       "  </tbody>\n",
       "</table>\n",
       "</div>"
      ],
      "text/plain": [
       "       geo_accession          title                 status submission_date last_update_date type channel_count source_name_ch1  organism_ch1 taxid_ch1                                characteristics_ch1 molecule_ch1                               extract_protocol_ch1 library_selection  library_source library_strategy platform_id      instrument_model                                           relation  series_id       sra_id         contact_name           contact_address contact_city contact_zip contact_country                                  contact_institute                                    data_processing  singlecellprobability\n",
       "618354    GSM6544227    02 Huh6+Mac  Public on Sep 09 2022     Sep 06 2022      Sep 09 2022  SRA             1           Liver  Homo sapiens      9606  tissue: Liver,cell line: Huh6,cell type: cance...    total RNA  RNA was harvested using Rneasy mini plus kit (...              cDNA  transcriptomic          RNA-Seq    GPL18573  Illumina NextSeq 500  BioSample: https://www.ncbi.nlm.nih.gov/biosam...  GSE212734  SRR21430637  Yoshihiro,,Komohara  Honjo 1â1â1, Chuouku     Kumamoto                       Japan  Graduate School of Medical Sciences, Kumamoto ...  illumina Local Run Manager v2.4.0,Sequence rea...               0.108401\n",
       "618356    GSM6544229   04 HepG2+Mac  Public on Sep 09 2022     Sep 06 2022      Sep 09 2022  SRA             1           Liver  Homo sapiens      9606  tissue: Liver,cell line: HepG2,cell type: canc...    total RNA  RNA was harvested using Rneasy mini plus kit (...              cDNA  transcriptomic          RNA-Seq    GPL18573  Illumina NextSeq 500  BioSample: https://www.ncbi.nlm.nih.gov/biosam...  GSE212734  SRR21430635  Yoshihiro,,Komohara  Honjo 1â1â1, Chuouku     Kumamoto                       Japan  Graduate School of Medical Sciences, Kumamoto ...  illumina Local Run Manager v2.4.0,Sequence rea...               0.074854\n",
       "618358    GSM6544231  06 H23_Mac CM  Public on Sep 09 2022     Sep 06 2022      Sep 09 2022  SRA             1            Lung  Homo sapiens      9606  tissue: Lung,cell line: NCI-H23,cell type: can...    total RNA  RNA was harvested using Rneasy mini plus kit (...              cDNA  transcriptomic          RNA-Seq    GPL18573  Illumina NextSeq 500  BioSample: https://www.ncbi.nlm.nih.gov/biosam...  GSE212734  SRR21430633  Yoshihiro,,Komohara  Honjo 1â1â1, Chuouku     Kumamoto                       Japan  Graduate School of Medical Sciences, Kumamoto ...  illumina Local Run Manager v2.4.0,Sequence rea...               0.095207"
      ]
     },
     "execution_count": 68,
     "metadata": {},
     "output_type": "execute_result"
    }
   ],
   "source": [
    "\n",
    "\n",
    "#### now all do a new filter\n",
    "df=df_meta_src.copy()\n",
    "min_singlecellprobability=.2\n",
    "print(df.shape)\n",
    "df=basic_filter_for_bulk_RNAseq(df, min_singlecellprobability=min_singlecellprobability)\n",
    "print(df.shape)\n",
    "# list of Strings to check for to include\n",
    "search_strings=['microglia', 'macrophage']\n",
    "df=filter_df(df, search_strings,#ignore_columns=['title', 'characteristics_ch1','extract_protocol_ch1','source_name_ch1','data_processing']\n",
    "             )\n",
    "print(df.shape)\n",
    "# list of Strings to check for to exclude\n",
    "search_strings=['iPSC', 'monocyte']\n",
    "df=filter_df(df, search_strings, include=False,#ignore_columns=['title', 'characteristics_ch1','extract_protocol_ch1','source_name_ch1','data_processing']\n",
    "             )\n",
    "print(df.shape)\n",
    "df.to_csv('meta_samples_small.csv', index=False)\n",
    "df.tail(3)\n"
   ]
  },
  {
   "attachments": {},
   "cell_type": "markdown",
   "metadata": {},
   "source": [
    "### save processed data"
   ]
  },
  {
   "cell_type": "code",
   "execution_count": null,
   "metadata": {},
   "outputs": [],
   "source": []
  },
  {
   "cell_type": "code",
   "execution_count": null,
   "metadata": {},
   "outputs": [],
   "source": []
  },
  {
   "cell_type": "code",
   "execution_count": 53,
   "metadata": {},
   "outputs": [],
   "source": [
    "#data_gex = ARCHS4_H5['data/expression'][:]\n",
    "#print(data_gex.shape)\n",
    "#print(data_gex)"
   ]
  },
  {
   "attachments": {},
   "cell_type": "markdown",
   "metadata": {},
   "source": [
    "### further anlaysis of the data "
   ]
  },
  {
   "cell_type": "code",
   "execution_count": null,
   "metadata": {},
   "outputs": [],
   "source": []
  },
  {
   "cell_type": "code",
   "execution_count": null,
   "metadata": {},
   "outputs": [],
   "source": []
  },
  {
   "cell_type": "code",
   "execution_count": null,
   "metadata": {},
   "outputs": [],
   "source": []
  },
  {
   "attachments": {},
   "cell_type": "markdown",
   "metadata": {},
   "source": [
    "# Analysis ends here"
   ]
  },
  {
   "cell_type": "code",
   "execution_count": null,
   "metadata": {},
   "outputs": [],
   "source": []
  },
  {
   "cell_type": "code",
   "execution_count": null,
   "metadata": {},
   "outputs": [],
   "source": []
  },
  {
   "cell_type": "code",
   "execution_count": null,
   "metadata": {},
   "outputs": [],
   "source": []
  }
 ],
 "metadata": {
  "kernelspec": {
   "display_name": "py38_muon",
   "language": "python",
   "name": "python3"
  },
  "language_info": {
   "codemirror_mode": {
    "name": "ipython",
    "version": 3
   },
   "file_extension": ".py",
   "mimetype": "text/x-python",
   "name": "python",
   "nbconvert_exporter": "python",
   "pygments_lexer": "ipython3",
   "version": "3.8.15"
  },
  "orig_nbformat": 4
 },
 "nbformat": 4,
 "nbformat_minor": 2
}
